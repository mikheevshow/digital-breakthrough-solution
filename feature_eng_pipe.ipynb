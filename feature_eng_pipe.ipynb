{
 "cells": [
  {
   "cell_type": "code",
   "execution_count": 1,
   "id": "3dbe0fe4-71db-4dea-918e-9ca5aea27625",
   "metadata": {},
   "outputs": [],
   "source": [
    "import pandas as pd\n",
    "from sklearn.model_selection import train_test_split\n",
    "from sklearn.metrics import f1_score, accuracy_score\n",
    "import plotly.express as px\n",
    "import numpy as np\n",
    "from statistics import mode\n",
    "from sklearn.metrics import silhouette_score\n",
    "from tqdm import tqdm\n",
    "import matplotlib.pyplot as plt\n",
    "from sklearn.cluster import DBSCAN\n",
    "from sklearn.cluster import KMeans\n",
    "from sklearn.preprocessing import TargetEncoder\n",
    "from collections import Counter\n",
    "from sklearn.ensemble import IsolationForest\n",
    "pd.set_option('display.max_rows', 40)\n",
    "target_enc = TargetEncoder(smooth=\"auto\")"
   ]
  },
  {
   "cell_type": "code",
   "execution_count": 91,
   "id": "9b75755d-6b33-434d-b51d-cb58ba292bd9",
   "metadata": {},
   "outputs": [],
   "source": [
    "# path = ... # Ваш путь до директории с данными /path/to/data/\n",
    "data = pd.read_csv('train_events.csv')\n",
    "all_events = pd.read_csv('all_events.csv')\n",
    "video = pd.read_csv('video_info_v2.csv')\n",
    "targets = pd.read_csv('train_targets.csv')\n",
    "test = pd.read_csv('test_events.csv')"
   ]
  },
  {
   "cell_type": "markdown",
   "id": "f14d9843-829e-4844-b741-0932be04492a",
   "metadata": {},
   "source": [
    "# Предсказание социально-демографических характеристик пользователей Rutube\n",
    "    Пользователи RUTUBE не всегда указывают свои данные, такие как возраст и пол, что затрудняет формирование портрета пользователя и создание персонализированных рекомендаций. Это ограничивает возможности платформы в предоставлении контента, который наиболее подходит интересам и потребностям пользователей, тем самым ухудшая пользовательский опыт.\n",
    "\n",
    "    Необходимо разработать модель, которая на основе истории просмотров сможет предсказывать пол и возраст пользователя. В качестве baseline решения мы предоставляем этот ноутбук.\n"
   ]
  },
  {
   "cell_type": "markdown",
   "id": "a31fc427-7c86-4a3e-9386-5e0434282e66",
   "metadata": {},
   "source": [
    "# Основной pipeline обработки\n",
    "    Чтобы предсказать возраст и пол, мы будем использовать медианный возраст и модальное значение пола для просмотренных каналов. Для этого мы подсчитаем статистические данные для каждого author_id на основе обучающей выборки.\n",
    "\n",
    "    Чтобы оценить качество данного подхода, разделим пользователей с известными социально-демографическими характеристиками на обучающую и валидационную выборки."
   ]
  },
  {
   "cell_type": "code",
   "execution_count": 90,
   "id": "93ed7336-2dce-4c38-8002-9b79ad32efc9",
   "metadata": {},
   "outputs": [],
   "source": [
    "# константы\n",
    "not_a_city = ['Oblast', 'Krai', 'Republic'] \n",
    "computers = ['Windows', 'Mac', 'other_desktop']\n",
    "smarthones = ['Android', 'other_smartphone', 'iOS', 'other_tablet']\n",
    "apple_devices = ['iOS', 'Mac']\n",
    "os_whitelist = ['Android', 'Windows', 'iOS', 'Mac']\n",
    "clients_names = all_events['ua_client_name'].value_counts()[:10].index.tolist()"
   ]
  },
  {
   "cell_type": "code",
   "execution_count": 4,
   "id": "c45d8701-3478-49e4-b699-edee75e09d4b",
   "metadata": {},
   "outputs": [],
   "source": [
    "is_region = lambda x: len(x.split()) >= 2 # регион/город"
   ]
  },
  {
   "cell_type": "code",
   "execution_count": 5,
   "id": "5ea66f62-bde3-4fec-8db1-4d2d83153f3f",
   "metadata": {},
   "outputs": [],
   "source": [
    "data['region_ind'] = data['region'].apply(is_region).astype(int)"
   ]
  },
  {
   "cell_type": "code",
   "execution_count": 6,
   "id": "66b16a8d-d1c3-47d2-967b-05961e6181f4",
   "metadata": {
    "scrolled": true
   },
   "outputs": [],
   "source": [
    "data.loc[~data['ua_os'].isin(os_whitelist), 'ua_os'] = 'other'"
   ]
  },
  {
   "cell_type": "code",
   "execution_count": 7,
   "id": "29267113-639b-4a48-a27b-1b242090cac4",
   "metadata": {},
   "outputs": [],
   "source": [
    "data.loc[data['ua_os'] == 'other', 'ua_os'] = data.loc[data['ua_os'] == 'other'].apply(lambda x: x['ua_os'] + '_' + x['ua_device_type'], axis=1)"
   ]
  },
  {
   "cell_type": "code",
   "execution_count": 8,
   "id": "cd227188-f9cd-4b8b-a04a-32365648324e",
   "metadata": {
    "scrolled": true
   },
   "outputs": [],
   "source": [
    "data.loc[data['ua_client_name'].apply(lambda x: sum([x==el for el in clients_names]) == 0), 'ua_client_name'] = 'other'\n",
    "data.loc[data['ua_client_name'] == 'other', 'ua_client_name'] = data.loc[data['ua_client_name'] == 'other'].apply(lambda x: x['ua_client_name'] + '_' + x['ua_device_type'], axis=1)\n"
   ]
  },
  {
   "cell_type": "code",
   "execution_count": 9,
   "id": "40b69587-2010-4619-9bf1-b5c1152a8414",
   "metadata": {},
   "outputs": [],
   "source": [
    "data = data.merge(video, on='rutube_video_id', how='left')"
   ]
  },
  {
   "cell_type": "code",
   "execution_count": 10,
   "id": "5f4bbab7-3f7f-43f8-9da8-da624cde35d6",
   "metadata": {},
   "outputs": [],
   "source": [
    "data['duration_rate'] = data['total_watchtime'] / data['duration']"
   ]
  },
  {
   "cell_type": "code",
   "execution_count": 11,
   "id": "32a8ba53-b3fa-45f8-b7f2-dac32cd21c77",
   "metadata": {},
   "outputs": [],
   "source": [
    "data['event_timestamp'] = pd.to_datetime(data['event_timestamp'])"
   ]
  },
  {
   "cell_type": "code",
   "execution_count": 12,
   "id": "3d1a679b-b6a1-4293-90a7-f912d9bbe8d4",
   "metadata": {},
   "outputs": [],
   "source": [
    "regions_df = pd.read_csv('region_zones.csv')\n",
    "\n",
    "mapped_time = []\n",
    "for _, row in data.iterrows():\n",
    "    region = row['region']\n",
    "    time_zone = regions_df[regions_df['Region'] == region]['Time Zone'].iloc[0]\n",
    "    if \"+\" in time_zone:\n",
    "        time_zone = time_zone.replace(\"+\", \"-\")\n",
    "    else:\n",
    "        time_zone = time_zone.replace(\"-\", \"+\")\n",
    "    time_zone = 'Etc/' + time_zone\n",
    "    mapped_time.append(row['event_timestamp'].tz_convert(time_zone))"
   ]
  },
  {
   "cell_type": "code",
   "execution_count": 13,
   "id": "2345cb96-98ad-4d1b-afd6-0e11e6f8a8ae",
   "metadata": {},
   "outputs": [],
   "source": [
    "mapped_time = np.array(mapped_time)\n",
    "\n",
    "data['event_timestamp'] = mapped_time\n",
    "\n",
    "data['event_timestamp'] = data['event_timestamp'].astype(\"str\")\n",
    "\n",
    "data['event_timestamp'] = pd.to_datetime(data['event_timestamp'].apply(lambda x: x[:16]))"
   ]
  },
  {
   "cell_type": "code",
   "execution_count": 14,
   "id": "a6861ff8-acc3-43fa-b11c-e7ac82afe289",
   "metadata": {},
   "outputs": [],
   "source": [
    "data['duration']  = data['duration'] / 1000"
   ]
  },
  {
   "cell_type": "code",
   "execution_count": 15,
   "id": "9ade541f-3b8a-4c28-8185-54ca4b10e265",
   "metadata": {},
   "outputs": [],
   "source": [
    "video_processed = pd.read_csv('video_info_processed.csv')\n",
    "new_categories = video_processed['category_own'].apply(lambda x: eval(x)).apply(pd.Series).fillna(video_processed['category'])\n",
    "new_categories['rutube_video_id'] = video_processed['rutube_video_id']\n",
    "new_categories.columns = [f'category_own_{i}' for i in range(4)] + ['rutube_video_id']"
   ]
  },
  {
   "cell_type": "code",
   "execution_count": 16,
   "id": "51ce4d09-f8aa-4bf1-b818-d8bd0e5f0fef",
   "metadata": {},
   "outputs": [],
   "source": [
    "data = data.merge(new_categories, on='rutube_video_id', how='left')"
   ]
  },
  {
   "cell_type": "code",
   "execution_count": 17,
   "id": "1c586582-659a-4fb9-b411-1e79c539beb2",
   "metadata": {},
   "outputs": [],
   "source": [
    "cat_transforms = {'top_1': lambda x: x.value_counts().index[0],\n",
    "                  # 'top_2': lambda x: x.value_counts().index[1],\n",
    "                  # 'top_3': lambda x: x.value_counts().index[2],\n",
    "                  'top_n': lambda x: x.value_counts().index[-1],\n",
    "                  'count': 'count',\n",
    "                 }\n",
    "num_transforms = {'mean': 'mean',\n",
    "                  'count': 'count',\n",
    "                  'max': 'max',\n",
    "                  'min': 'min',\n",
    "                  'median': 'median',\n",
    "                  'std': 'std',\n",
    "                  'q3': lambda x: np.quantile(x, 0.3),\n",
    "                  'q7': lambda x: np.quantile(x, 0.7),\n",
    "                  'q9': lambda x: np.quantile(x, 0.9),\n",
    "                 }"
   ]
  },
  {
   "cell_type": "code",
   "execution_count": 18,
   "id": "ccd1764b-caaf-4826-8ea7-2f43680ca3d0",
   "metadata": {},
   "outputs": [],
   "source": [
    "cat_features = data.dtypes[data.dtypes == object].index.tolist()\n",
    "num_features = data.dtypes[data.dtypes != object].index.tolist()"
   ]
  },
  {
   "cell_type": "code",
   "execution_count": 19,
   "id": "e30ba204-f375-43e4-b143-734a56d26345",
   "metadata": {},
   "outputs": [],
   "source": [
    "columns = [f\"{col}_{ct}\" for col in cat_features for ct in cat_transforms] + \\\n",
    "                         [f\"{col}_{ct}\" for col in num_features for ct in num_transforms]"
   ]
  },
  {
   "cell_type": "code",
   "execution_count": 20,
   "id": "5cede8d8-fad7-4d38-a301-4c90e0c26d65",
   "metadata": {},
   "outputs": [],
   "source": [
    "features_group = {cf: list(cat_transforms.values()) for cf in cat_features}\n",
    "features_group.update({nf: list(num_transforms.values()) for nf in num_features})"
   ]
  },
  {
   "cell_type": "code",
   "execution_count": 21,
   "id": "e631520d-2358-4b31-ad9c-8c2ced72c9eb",
   "metadata": {},
   "outputs": [],
   "source": [
    "timeseries_features = data[['viewer_uid', 'category', 'region', 'event_timestamp']].merge(targets, on='viewer_uid', how='left')"
   ]
  },
  {
   "cell_type": "code",
   "execution_count": 22,
   "id": "dfae0770-0604-464a-a5be-30c112941700",
   "metadata": {},
   "outputs": [],
   "source": [
    "def timeseries_features_func(group: str, feature: str):\n",
    "    group_ts = timeseries_features.groupby(group).agg(\n",
    "        event_timestamp = ('event_timestamp', list),\n",
    "        features = (feature, list)\n",
    "    )\n",
    "    group_ts['timeseries'] = group_ts.apply(lambda x: sorted(list(zip(x['event_timestamp'], x['features'])), key=lambda x: x[0]), axis=1)\n",
    "    group_ts[['event_timestamp', 'features']] = group_ts['timeseries'].apply(lambda x: list(zip(*x))).apply(pd.Series)\n",
    "    group_ts.drop('timeseries', axis=1, inplace=True)\n",
    "    group_ts[f'{feature}_mean'] = group_ts['features'].apply(lambda x: np.mean(x))\n",
    "    group_ts[f'{feature}_std'] = group_ts['features'].apply(lambda x: np.std(x))\n",
    "\n",
    "    morning_column_mean = []\n",
    "    morning_column_std = []\n",
    "    morning_mask = group_ts.apply(lambda x: [y.hour < 12 for y in x['event_timestamp']], axis=1)\n",
    "    for mask, row in zip(morning_mask, group_ts['features']):\n",
    "        morning_column_mean.append(np.array(row)[mask].mean())\n",
    "        morning_column_std.append(np.array(row)[mask].std())\n",
    "    group_ts[f'{feature}_morning_mean'] = morning_column_mean\n",
    "    group_ts[f'{feature}_morning_std'] = morning_column_std\n",
    "    \n",
    "    day_column_mean = []\n",
    "    day_column_std = []\n",
    "    day_mask = group_ts.apply(lambda x: [12 <= y.hour < 18 for y in x['event_timestamp']], axis=1)\n",
    "    for mask, row in zip(day_mask, group_ts['features']):\n",
    "        day_column_mean.append(np.array(row)[mask].mean())\n",
    "        day_column_std.append(np.array(row)[mask].std())\n",
    "    group_ts[f'{feature}_day_mean'] = day_column_mean\n",
    "    group_ts[f'{feature}_day_std'] = day_column_std\n",
    "\n",
    "    even_column_mean = []\n",
    "    even_column_std = []\n",
    "    even_mask = group_ts.apply(lambda x: [y.hour >= 18 for y in x['event_timestamp']], axis=1)\n",
    "    for mask, row in zip(even_mask, group_ts['features']):\n",
    "        even_column_mean.append(np.array(row)[mask].mean())\n",
    "        even_column_std.append(np.array(row)[mask].std())\n",
    "    group_ts[f'{feature}_even_mean'] = even_column_mean\n",
    "    group_ts[f'{feature}_even_std'] = even_column_std\n",
    "\n",
    "    return group_ts.drop(['event_timestamp', 'features'], axis=1).reset_index()"
   ]
  },
  {
   "cell_type": "code",
   "execution_count": 23,
   "id": "f1d163bd-6503-4dba-b6fe-6233363f95ed",
   "metadata": {},
   "outputs": [],
   "source": [
    "category_age_ts = timeseries_features_func('category', 'age')\n",
    "region_age_ts = timeseries_features_func('region', 'age')"
   ]
  },
  {
   "cell_type": "code",
   "execution_count": 24,
   "id": "3d4afe36-688c-452e-a5e0-f3736522fa37",
   "metadata": {},
   "outputs": [],
   "source": [
    "# coбираем статистики относительно видео\n",
    "\n",
    "data_video = data\n",
    "video_group_info = data_video.groupby('rutube_video_id', as_index=False).agg(features_group)\n",
    "video_group_info.columns = columns\n",
    "video_group_info = video_group_info.fillna(0)"
   ]
  },
  {
   "cell_type": "code",
   "execution_count": 26,
   "id": "c8b824df-92ed-41c6-b30f-1b9ceafa5849",
   "metadata": {},
   "outputs": [],
   "source": [
    "# популярность по названию\n",
    "\n",
    "title_popularity = data.groupby('title', as_index=False).agg(\n",
    "    rutube_video_id = ('rutube_video_id', 'first'),\n",
    "    author = ('author_id', 'first'),\n",
    "    unique_viewers = ('viewer_uid', lambda x: len(set(x))),\n",
    "    all_viewers = ('viewer_uid', 'count'),\n",
    "    watchtime = ('total_watchtime', 'sum'),\n",
    "    duration = ('duration', 'first')\n",
    ")\n",
    "title_popularity['viewing_rate'] = title_popularity['watchtime'] / (title_popularity['all_viewers'] * title_popularity['duration'])"
   ]
  },
  {
   "cell_type": "code",
   "execution_count": 27,
   "id": "afc3c8f4-fc37-4a19-b963-0dfb0ff98d7b",
   "metadata": {
    "scrolled": true
   },
   "outputs": [],
   "source": [
    "# популярность по категориям\n",
    "\n",
    "cat_popularity = data.groupby('category', as_index=False).agg(\n",
    "    authors = ('author_id', lambda x: len(set(x))),\n",
    "    unique_viewers = ('viewer_uid', lambda x: len(set(x))),\n",
    "    all_viewers = ('viewer_uid', 'count'),\n",
    "    watchtime = ('total_watchtime', 'sum'),\n",
    "    duration = ('duration', 'first')\n",
    ")\n",
    "cat_popularity['viewing_rate'] = cat_popularity['watchtime'] / (cat_popularity['all_viewers'] * cat_popularity['duration'])"
   ]
  },
  {
   "cell_type": "code",
   "execution_count": 28,
   "id": "ed7094db-2b39-4111-9982-9f88d3120c6c",
   "metadata": {},
   "outputs": [],
   "source": [
    "# популярность по регионам\n",
    "\n",
    "region_popularity = data.groupby('region', as_index=False).agg(\n",
    "    authors = ('author_id', lambda x: len(set(x))),\n",
    "    unique_viewers = ('viewer_uid', lambda x: len(set(x))),\n",
    "    all_viewers = ('viewer_uid', 'count'),\n",
    "    watchtime = ('total_watchtime', 'sum'),\n",
    "    duration = ('duration', 'first')\n",
    ")\n",
    "region_popularity['viewing_rate'] = region_popularity['watchtime'] / (region_popularity['all_viewers'] * region_popularity['duration'])"
   ]
  },
  {
   "cell_type": "code",
   "execution_count": 29,
   "id": "033cc307-899a-41b9-92c6-d5ccec058d0c",
   "metadata": {},
   "outputs": [],
   "source": [
    "# популярность по девайсам\n",
    "\n",
    "device_popularity = data.groupby('ua_device_type', as_index=False).agg(\n",
    "    authors = ('author_id', lambda x: len(set(x))),\n",
    "    unique_viewers = ('viewer_uid', lambda x: len(set(x))),\n",
    "    all_viewers = ('viewer_uid', 'count'),\n",
    "    watchtime = ('total_watchtime', 'sum'),\n",
    "    duration = ('duration', 'first')\n",
    ")\n",
    "device_popularity['viewing_rate'] = device_popularity['watchtime'] / (device_popularity['all_viewers'] * device_popularity['duration'])"
   ]
  },
  {
   "cell_type": "code",
   "execution_count": 30,
   "id": "b235069a-3c8c-4510-87c2-d4c44a8314c9",
   "metadata": {},
   "outputs": [],
   "source": [
    "# блок с матрицей интеракций"
   ]
  },
  {
   "cell_type": "code",
   "execution_count": 31,
   "id": "a694cbf4-b307-46b4-aa6f-b595e5b11931",
   "metadata": {},
   "outputs": [],
   "source": [
    "interact_matrix = data.groupby(['viewer_uid', 'category'], as_index=False).agg(\n",
    "    count_views = ('rutube_video_id', 'count')\n",
    ")"
   ]
  },
  {
   "cell_type": "code",
   "execution_count": 32,
   "id": "e64834ca-818d-463e-bee9-d810a3f8bf51",
   "metadata": {},
   "outputs": [],
   "source": [
    "viewer2id = dict(zip(data['viewer_uid'].unique(), list(range(len(data['viewer_uid'].unique())))))\n",
    "cat2id = dict(zip(data['category'].unique(), list(range(len(data['category'].unique())))))"
   ]
  },
  {
   "cell_type": "code",
   "execution_count": 33,
   "id": "0c429f43-7b3a-4ea7-8538-64e40bac2d29",
   "metadata": {},
   "outputs": [],
   "source": [
    "import numpy as np\n",
    "import scipy.sparse as sparse\n",
    "coo = sparse.coo_matrix((interact_matrix['count_views'], \n",
    "                         (interact_matrix['viewer_uid'].map(viewer2id).values,\n",
    "                          interact_matrix['category'].map(cat2id).values)))"
   ]
  },
  {
   "cell_type": "code",
   "execution_count": 34,
   "id": "333d7fcd-fb5b-4ba8-be95-ecec32d116f5",
   "metadata": {},
   "outputs": [],
   "source": [
    "coo_array = coo.toarray()"
   ]
  },
  {
   "cell_type": "code",
   "execution_count": 35,
   "id": "fa0e3f17-bf8d-49fd-bd9d-9ffd6d4c2f33",
   "metadata": {},
   "outputs": [],
   "source": [
    "norm_coefs = np.sqrt((coo_array ** 2).sum(axis=1))"
   ]
  },
  {
   "cell_type": "code",
   "execution_count": 36,
   "id": "34cbf481-7965-4bbe-ac1f-1fb03a697302",
   "metadata": {},
   "outputs": [],
   "source": [
    "coo_array_norm = coo_array / norm_coefs[:, None]"
   ]
  },
  {
   "cell_type": "code",
   "execution_count": 37,
   "id": "a472bb62-03f7-462d-a49f-7f658f56dc35",
   "metadata": {},
   "outputs": [],
   "source": [
    "U, S, Vh = np.linalg.svd(coo_array_norm, full_matrices=False)"
   ]
  },
  {
   "cell_type": "code",
   "execution_count": 38,
   "id": "681a5eb0-052d-4883-aeb5-1d6030a3e80f",
   "metadata": {},
   "outputs": [],
   "source": [
    "isforest = IsolationForest(random_state=42, n_estimators=100, n_jobs=-1)"
   ]
  },
  {
   "cell_type": "code",
   "execution_count": 39,
   "id": "b127e7e9-8696-4719-880f-4ed29adac842",
   "metadata": {},
   "outputs": [],
   "source": [
    "ismapper = isforest.fit_predict(U) == -1"
   ]
  },
  {
   "cell_type": "code",
   "execution_count": 40,
   "id": "a149b39e-f6d6-49dc-895f-c12ac9dd7908",
   "metadata": {},
   "outputs": [],
   "source": [
    "kmeans = KMeans(n_clusters=40, random_state=42, n_init=\"auto\")\n",
    "kmeans.fit(U)\n",
    "label_clusters = kmeans.labels_"
   ]
  },
  {
   "cell_type": "code",
   "execution_count": 41,
   "id": "a0664b6a-8f7e-4188-8f10-c2a4d953c57a",
   "metadata": {},
   "outputs": [],
   "source": [
    "label_clusters[ismapper] = -1"
   ]
  },
  {
   "cell_type": "code",
   "execution_count": 42,
   "id": "8066e1f3-6926-48f5-b6af-526aaef1d9da",
   "metadata": {},
   "outputs": [
    {
     "name": "stderr",
     "output_type": "stream",
     "text": [
      "/var/folders/rv/qghsjdfd2l37tf1dlws37sp40000gn/T/ipykernel_11848/3034202980.py:1: FutureWarning: pandas.value_counts is deprecated and will be removed in a future version. Use pd.Series(obj).value_counts() instead.\n",
      "  best_labels = pd.value_counts(label_clusters)\n"
     ]
    }
   ],
   "source": [
    "best_labels = pd.value_counts(label_clusters)"
   ]
  },
  {
   "cell_type": "code",
   "execution_count": 43,
   "id": "52758041-5146-4719-95bc-908c434efccb",
   "metadata": {
    "scrolled": true
   },
   "outputs": [],
   "source": [
    "filtrate_labels = list(map(lambda x: x if x in best_labels else -1, label_clusters))"
   ]
  },
  {
   "cell_type": "code",
   "execution_count": 44,
   "id": "a1eff9f7-df64-4a76-bb81-7fd556f7af08",
   "metadata": {},
   "outputs": [],
   "source": [
    "# name_features = list(map(lambda x: 'user_cat_class_' + str(x), pd.value_counts(filtrate_labels).index))"
   ]
  },
  {
   "cell_type": "code",
   "execution_count": 45,
   "id": "c282ccba-b483-4e1e-a647-b1912f42a1fa",
   "metadata": {},
   "outputs": [],
   "source": [
    "name_features = list(map(lambda x: 'user_cat_class_' + str(x), filtrate_labels))"
   ]
  },
  {
   "cell_type": "code",
   "execution_count": 46,
   "id": "e31d5368-8485-4bea-81c6-1afc1a1cf93b",
   "metadata": {},
   "outputs": [],
   "source": [
    "# аггрегация основных данных"
   ]
  },
  {
   "cell_type": "code",
   "execution_count": 47,
   "id": "79816c75-4949-4424-a1a0-5cceea012b6b",
   "metadata": {},
   "outputs": [],
   "source": [
    "data_user = data\n",
    "user_group_info = data_user.groupby('viewer_uid', as_index=False).agg(features_group)\n",
    "user_group_info.columns = columns\n",
    "user_group_info = user_group_info.fillna(0)"
   ]
  },
  {
   "cell_type": "code",
   "execution_count": 48,
   "id": "cde29efd-ba1e-40b4-bcbc-47bd5c396c6e",
   "metadata": {},
   "outputs": [],
   "source": [
    "user_group_info['viewer_uid'] = data_user['viewer_uid']"
   ]
  },
  {
   "cell_type": "code",
   "execution_count": 49,
   "id": "18056b33-cb83-4c1e-88ba-050591267998",
   "metadata": {},
   "outputs": [],
   "source": [
    "# объединение аггрегаций по юзерам и по видео"
   ]
  },
  {
   "cell_type": "code",
   "execution_count": 50,
   "id": "637802a8-578c-460a-a4c6-2b405cf22e72",
   "metadata": {},
   "outputs": [],
   "source": [
    "user_video_group = user_group_info.merge(video_group_info, on='rutube_video_id_top_1', how='left').\\\n",
    "                merge(video_group_info.rename(columns={'rutube_video_id_top_n':'rutube_video_id_top_n_x'}),\n",
    "                    on='rutube_video_id_top_n_x', how='left')"
   ]
  },
  {
   "cell_type": "code",
   "execution_count": 51,
   "id": "569f828e-6427-4bf2-8961-09f9e1eed144",
   "metadata": {},
   "outputs": [],
   "source": [
    "# добавление знаний по популярности "
   ]
  },
  {
   "cell_type": "code",
   "execution_count": 52,
   "id": "318a516f-b223-44bd-96d5-f8c94cf89b02",
   "metadata": {},
   "outputs": [],
   "source": [
    "for cat in list(filter(lambda x: 'title' in x and 'count' not in x, user_video_group.columns)):\n",
    "    user_video_group = user_video_group.merge(title_popularity.rename(columns={'title': cat}), on=cat, how='left', suffixes=(f'_{cat}_a', f'_{cat}_b'))"
   ]
  },
  {
   "cell_type": "code",
   "execution_count": 53,
   "id": "a2b53cf7-dbab-4fb4-ab25-2229029c7ca0",
   "metadata": {},
   "outputs": [],
   "source": [
    "for cat in list(filter(lambda x: 'category' in x and 'count' not in x, user_video_group.columns)):\n",
    "    user_video_group = user_video_group.merge(cat_popularity.rename(columns={'category': cat}), on=cat, how='left', suffixes=(f'_{cat}_a', f'_{cat}_b'))"
   ]
  },
  {
   "cell_type": "code",
   "execution_count": 54,
   "id": "d4d4a318-4185-48a3-a032-fcc46c0fa0b9",
   "metadata": {},
   "outputs": [],
   "source": [
    "for cat in list(filter(lambda x: 'region' in x and 'count' not in x and 'ind' not in x, user_video_group.columns)):\n",
    "    user_video_group = user_video_group.merge(region_popularity.rename(columns={'region': cat}), on=cat, how='left', suffixes=(f'_{cat}_a', f'_{cat}_b'))"
   ]
  },
  {
   "cell_type": "code",
   "execution_count": 55,
   "id": "b41e6185-c264-4b0f-bbad-0567e801f0aa",
   "metadata": {},
   "outputs": [],
   "source": [
    "for cat in list(filter(lambda x: 'ua_device_type' in x and 'count' not in x, user_video_group.columns)):\n",
    "    user_video_group = user_video_group.merge(device_popularity.rename(columns={'ua_device_type': cat}), on=cat, how='left', suffixes=(f'_{cat}_a', f'_{cat}_b'))"
   ]
  },
  {
   "cell_type": "code",
   "execution_count": 56,
   "id": "dd8b1309-6a92-49c6-9711-2a4fe672bd48",
   "metadata": {},
   "outputs": [],
   "source": [
    "# добавление матрицы user-user"
   ]
  },
  {
   "cell_type": "code",
   "execution_count": 57,
   "id": "1d99bf20-e32e-4161-9bb1-5eb97dfb6469",
   "metadata": {},
   "outputs": [],
   "source": [
    "id2viewer = {v: k for k, v in viewer2id.items()}"
   ]
  },
  {
   "cell_type": "code",
   "execution_count": 58,
   "id": "1fba1628-ad79-4be1-9c78-bf2e2d7990d3",
   "metadata": {},
   "outputs": [],
   "source": [
    "user_inter = pd.DataFrame(U)\n",
    "user_inter.index = [id2viewer[i] for i in user_inter.index]"
   ]
  },
  {
   "cell_type": "code",
   "execution_count": 59,
   "id": "19ef2e19-3e47-4a27-8c7b-cf523aaef84e",
   "metadata": {},
   "outputs": [],
   "source": [
    "user_inter = user_inter.reset_index().rename(columns={'index': 'viewer_uid'})"
   ]
  },
  {
   "cell_type": "code",
   "execution_count": 60,
   "id": "92e2544a-2ca7-44dd-bb4d-d4ce88eb5f0a",
   "metadata": {},
   "outputs": [],
   "source": [
    "user_inter['name_features'] = name_features"
   ]
  },
  {
   "cell_type": "code",
   "execution_count": 61,
   "id": "49d64ef6-9e77-4198-a148-7eefe0fd68bf",
   "metadata": {},
   "outputs": [],
   "source": [
    "user_inter = user_inter.sort_values(by='viewer_uid')"
   ]
  },
  {
   "cell_type": "code",
   "execution_count": 62,
   "id": "f044e364-b398-4f4d-8e7c-be374682edd8",
   "metadata": {},
   "outputs": [],
   "source": [
    "user_video_group = user_video_group.merge(user_inter, on='viewer_uid', how='left')"
   ]
  },
  {
   "cell_type": "code",
   "execution_count": 84,
   "id": "1f5fae5d-339f-4567-b0ed-ccbb8546b44a",
   "metadata": {},
   "outputs": [
    {
     "name": "stderr",
     "output_type": "stream",
     "text": [
      "100%|███████████████████████████████████| 180012/180012 [55:47<00:00, 53.77it/s]\n"
     ]
    }
   ],
   "source": [
    "from sklearn.metrics.pairwise import cosine_similarity\n",
    "usr = user_inter[user_inter.columns[1:-1]].values\n",
    "sim_viewers = []\n",
    "for idx1 in tqdm(range(len(usr))):\n",
    "    mean_val = np.mean(cosine_similarity(usr[idx1].reshape(1, -1), usr))\n",
    "    sim_viewers.append(mean_val)"
   ]
  },
  {
   "cell_type": "code",
   "execution_count": 85,
   "id": "60c2da68-cfa5-436f-a5d4-1500c78e7161",
   "metadata": {},
   "outputs": [],
   "source": [
    "pd.to_pickle(sim_viewers, 'sim_viewers.pkl')"
   ]
  },
  {
   "cell_type": "code",
   "execution_count": 86,
   "id": "8de64be1-c018-4821-9ea1-d80b8ddffb5d",
   "metadata": {},
   "outputs": [],
   "source": [
    "user_video_group['sim_viewers'] = sim_viewers"
   ]
  },
  {
   "cell_type": "code",
   "execution_count": 87,
   "id": "87651d22-6279-41ac-83e8-87c6a5959eed",
   "metadata": {},
   "outputs": [],
   "source": [
    "train_data = user_video_group.merge(targets, on='viewer_uid', how='left')"
   ]
  },
  {
   "cell_type": "code",
   "execution_count": 88,
   "id": "f1ced0db-e42f-4930-8035-43500ea1b7fc",
   "metadata": {},
   "outputs": [
    {
     "data": {
      "text/plain": [
       "0"
      ]
     },
     "execution_count": 88,
     "metadata": {},
     "output_type": "execute_result"
    }
   ],
   "source": [
    "train_data.isnull().sum().sum()"
   ]
  },
  {
   "cell_type": "code",
   "execution_count": 89,
   "id": "23070f06-98ea-49be-9354-c8940b39ba9f",
   "metadata": {},
   "outputs": [],
   "source": [
    "train_data.to_csv('prepared_train.csv', index=False)"
   ]
  },
  {
   "cell_type": "markdown",
   "id": "69b5b409-815b-466c-b6b8-932abd89fede",
   "metadata": {},
   "source": [
    "**Все тоже самое для теста делаем**"
   ]
  },
  {
   "cell_type": "code",
   "execution_count": 92,
   "id": "04120bfd-beb5-448b-a558-0ec23428b1da",
   "metadata": {},
   "outputs": [],
   "source": [
    "test['region_ind'] = test['region'].apply(is_region).astype(int)"
   ]
  },
  {
   "cell_type": "code",
   "execution_count": 93,
   "id": "13212cd7-7519-4777-b5f9-fb46e1bfd20d",
   "metadata": {},
   "outputs": [],
   "source": [
    "test.loc[~test['ua_os'].isin(os_whitelist), 'ua_os'] = 'other'"
   ]
  },
  {
   "cell_type": "code",
   "execution_count": 94,
   "id": "2bb50815-f3b9-4d90-a287-1db065d7628a",
   "metadata": {},
   "outputs": [],
   "source": [
    "test.loc[test['ua_os'] == 'other', 'ua_os'] = test.loc[test['ua_os'] == 'other'].apply(lambda x: x['ua_os'] + '_' + x['ua_device_type'], axis=1)"
   ]
  },
  {
   "cell_type": "code",
   "execution_count": 95,
   "id": "4adcf896-0301-4e35-b0ba-67bdf7fc4f47",
   "metadata": {},
   "outputs": [],
   "source": [
    "test.loc[data['ua_client_name'].apply(lambda x: sum([x==el for el in clients_names]) == 0), 'ua_client_name'] = 'other'\n",
    "test.loc[data['ua_client_name'] == 'other', 'ua_client_name'] = test.loc[test['ua_client_name'] == 'other'].apply(lambda x: x['ua_client_name'] + '_' + x['ua_device_type'], axis=1)\n"
   ]
  },
  {
   "cell_type": "code",
   "execution_count": 96,
   "id": "6c42a196-13d9-4264-9bed-6d37fd49491b",
   "metadata": {},
   "outputs": [],
   "source": [
    "test = test.merge(video, on='rutube_video_id', how='left')"
   ]
  },
  {
   "cell_type": "code",
   "execution_count": 97,
   "id": "67fec583-0481-4281-a484-8d6080d0703d",
   "metadata": {},
   "outputs": [],
   "source": [
    "test['duration_rate'] = test['total_watchtime'] / test['duration']"
   ]
  },
  {
   "cell_type": "code",
   "execution_count": 98,
   "id": "25e8dbd8-604a-41f6-b193-a3c7c1730b72",
   "metadata": {},
   "outputs": [],
   "source": [
    "test['event_timestamp'] = pd.to_datetime(test['event_timestamp'])"
   ]
  },
  {
   "cell_type": "code",
   "execution_count": 99,
   "id": "dca65890-e273-4768-94d2-019a3828c3d2",
   "metadata": {},
   "outputs": [],
   "source": [
    "regions_df = pd.read_csv('region_zones.csv')\n",
    "\n",
    "mapped_time = []\n",
    "for _, row in test.iterrows():\n",
    "    region = row['region']\n",
    "    time_zone = regions_df[regions_df['Region'] == region]['Time Zone'].iloc[0]\n",
    "    if \"+\" in time_zone:\n",
    "        time_zone = time_zone.replace(\"+\", \"-\")\n",
    "    else:\n",
    "        time_zone = time_zone.replace(\"-\", \"+\")\n",
    "    time_zone = 'Etc/' + time_zone\n",
    "    mapped_time.append(row['event_timestamp'].tz_convert(time_zone))"
   ]
  },
  {
   "cell_type": "code",
   "execution_count": 100,
   "id": "c8321e93-9b7c-4f71-b1c8-c073e5d4746c",
   "metadata": {},
   "outputs": [],
   "source": [
    "mapped_time = np.array(mapped_time)\n",
    "\n",
    "test['event_timestamp'] = mapped_time\n",
    "\n",
    "test['event_timestamp'] = test['event_timestamp'].astype(\"str\")\n",
    "\n",
    "test['event_timestamp'] = pd.to_datetime(test['event_timestamp'].apply(lambda x: x[:16]))"
   ]
  },
  {
   "cell_type": "code",
   "execution_count": 101,
   "id": "a2ca76b1-32a9-4b39-b767-3cc86b823afe",
   "metadata": {},
   "outputs": [],
   "source": [
    "test['duration']  = test['duration'] / 1000"
   ]
  },
  {
   "cell_type": "code",
   "execution_count": 103,
   "id": "7e85bb02-24e1-4a37-a94f-24ef916bb5bb",
   "metadata": {},
   "outputs": [],
   "source": [
    "test = test.merge(new_categories, on='rutube_video_id', how='left')"
   ]
  },
  {
   "cell_type": "code",
   "execution_count": 104,
   "id": "94b53c2e-9a9f-44d6-8a80-fb54a84757be",
   "metadata": {},
   "outputs": [],
   "source": [
    "cat_features = test.dtypes[test.dtypes == object].index.tolist()\n",
    "num_features = test.dtypes[test.dtypes != object].index.tolist()"
   ]
  },
  {
   "cell_type": "code",
   "execution_count": 105,
   "id": "294bbcf0-d47a-4c76-804c-377a30de71e4",
   "metadata": {},
   "outputs": [],
   "source": [
    "columns = [f\"{col}_{ct}\" for col in cat_features for ct in cat_transforms] + \\\n",
    "                         [f\"{col}_{ct}\" for col in num_features for ct in num_transforms]"
   ]
  },
  {
   "cell_type": "code",
   "execution_count": 106,
   "id": "8248928a-9c1a-46ab-913c-1168224fcfe3",
   "metadata": {},
   "outputs": [],
   "source": [
    "features_group = {cf: list(cat_transforms.values()) for cf in cat_features}\n",
    "features_group.update({nf: list(num_transforms.values()) for nf in num_features})"
   ]
  },
  {
   "cell_type": "code",
   "execution_count": 107,
   "id": "728feedc-d0b0-44a4-8df0-d899296f951d",
   "metadata": {},
   "outputs": [],
   "source": [
    "timeseries_features = test[['viewer_uid', 'category', 'region', 'event_timestamp']]"
   ]
  },
  {
   "cell_type": "code",
   "execution_count": 114,
   "id": "fa75607b-3314-4112-91d6-d350cd7f7d7f",
   "metadata": {},
   "outputs": [],
   "source": [
    "# coбираем статистики относительно видео\n",
    "\n",
    "data_video = test\n",
    "video_group_info = data_video.groupby('rutube_video_id', as_index=False).agg(features_group)\n",
    "video_group_info.columns = columns\n",
    "video_group_info = video_group_info.fillna(0)"
   ]
  },
  {
   "cell_type": "code",
   "execution_count": 115,
   "id": "4092ea5b-ec5f-407e-9ead-4c6c9c05548f",
   "metadata": {},
   "outputs": [],
   "source": [
    "# популярность по названию\n",
    "\n",
    "title_popularity = test.groupby('title', as_index=False).agg(\n",
    "    rutube_video_id = ('rutube_video_id', 'first'),\n",
    "    author = ('author_id', 'first'),\n",
    "    unique_viewers = ('viewer_uid', lambda x: len(set(x))),\n",
    "    all_viewers = ('viewer_uid', 'count'),\n",
    "    watchtime = ('total_watchtime', 'sum'),\n",
    "    duration = ('duration', 'first')\n",
    ")\n",
    "title_popularity['viewing_rate'] = title_popularity['watchtime'] / (title_popularity['all_viewers'] * title_popularity['duration'])"
   ]
  },
  {
   "cell_type": "code",
   "execution_count": 116,
   "id": "90136861-6492-4c5c-8a58-7cd2573a7069",
   "metadata": {},
   "outputs": [],
   "source": [
    "# популярность по категориям\n",
    "\n",
    "cat_popularity = test.groupby('category', as_index=False).agg(\n",
    "    authors = ('author_id', lambda x: len(set(x))),\n",
    "    unique_viewers = ('viewer_uid', lambda x: len(set(x))),\n",
    "    all_viewers = ('viewer_uid', 'count'),\n",
    "    watchtime = ('total_watchtime', 'sum'),\n",
    "    duration = ('duration', 'first')\n",
    ")\n",
    "cat_popularity['viewing_rate'] = cat_popularity['watchtime'] / (cat_popularity['all_viewers'] * cat_popularity['duration'])"
   ]
  },
  {
   "cell_type": "code",
   "execution_count": 117,
   "id": "340355a5-7a13-4122-8b0b-df0fc61d04d2",
   "metadata": {},
   "outputs": [],
   "source": [
    "# популярность по регионам\n",
    "\n",
    "region_popularity = test.groupby('region', as_index=False).agg(\n",
    "    authors = ('author_id', lambda x: len(set(x))),\n",
    "    unique_viewers = ('viewer_uid', lambda x: len(set(x))),\n",
    "    all_viewers = ('viewer_uid', 'count'),\n",
    "    watchtime = ('total_watchtime', 'sum'),\n",
    "    duration = ('duration', 'first')\n",
    ")\n",
    "region_popularity['viewing_rate'] = region_popularity['watchtime'] / (region_popularity['all_viewers'] * region_popularity['duration'])"
   ]
  },
  {
   "cell_type": "code",
   "execution_count": 118,
   "id": "f810e269-49a3-44ab-8db5-efdf19bb5d22",
   "metadata": {},
   "outputs": [],
   "source": [
    "# популярность по девайсам\n",
    "\n",
    "device_popularity = test.groupby('ua_device_type', as_index=False).agg(\n",
    "    authors = ('author_id', lambda x: len(set(x))),\n",
    "    unique_viewers = ('viewer_uid', lambda x: len(set(x))),\n",
    "    all_viewers = ('viewer_uid', 'count'),\n",
    "    watchtime = ('total_watchtime', 'sum'),\n",
    "    duration = ('duration', 'first')\n",
    ")\n",
    "device_popularity['viewing_rate'] = device_popularity['watchtime'] / (device_popularity['all_viewers'] * device_popularity['duration'])"
   ]
  },
  {
   "cell_type": "code",
   "execution_count": 119,
   "id": "03c0c35f-fb89-4fed-b4c1-aaa2cc9fe878",
   "metadata": {},
   "outputs": [],
   "source": [
    "interact_matrix = test.groupby(['viewer_uid', 'category'], as_index=False).agg(\n",
    "    count_views = ('rutube_video_id', 'count')\n",
    ")"
   ]
  },
  {
   "cell_type": "code",
   "execution_count": 120,
   "id": "7dced9cf-2604-417e-ad17-40d47d8d1dd0",
   "metadata": {},
   "outputs": [],
   "source": [
    "viewer2id = dict(zip(test['viewer_uid'].unique(), list(range(len(test['viewer_uid'].unique())))))\n",
    "cat2id = dict(zip(test['category'].unique(), list(range(len(test['category'].unique())))))"
   ]
  },
  {
   "cell_type": "code",
   "execution_count": 121,
   "id": "86c7b7c7-cf0f-4d5a-b918-5c2e028520dd",
   "metadata": {},
   "outputs": [],
   "source": [
    "coo = sparse.coo_matrix((interact_matrix['count_views'], \n",
    "                         (interact_matrix['viewer_uid'].map(viewer2id).values,\n",
    "                          interact_matrix['category'].map(cat2id).values)))"
   ]
  },
  {
   "cell_type": "code",
   "execution_count": 122,
   "id": "29f4a963-4e4a-45af-ba73-49b4aace8280",
   "metadata": {},
   "outputs": [],
   "source": [
    "coo_array = coo.toarray()"
   ]
  },
  {
   "cell_type": "code",
   "execution_count": 123,
   "id": "a057c0d8-c764-444f-a920-2be0e868d0bb",
   "metadata": {},
   "outputs": [],
   "source": [
    "norm_coefs = np.sqrt((coo_array ** 2).sum(axis=1))"
   ]
  },
  {
   "cell_type": "code",
   "execution_count": 124,
   "id": "6877afce-1990-400c-bcfe-24c74d709308",
   "metadata": {},
   "outputs": [],
   "source": [
    "coo_array_norm = coo_array / norm_coefs[:, None]"
   ]
  },
  {
   "cell_type": "code",
   "execution_count": 125,
   "id": "d3ad7a24-24ac-46d2-bf40-b305fc28ab9e",
   "metadata": {},
   "outputs": [],
   "source": [
    "U, S, Vh = np.linalg.svd(coo_array_norm, full_matrices=False)"
   ]
  },
  {
   "cell_type": "code",
   "execution_count": 126,
   "id": "55713748-4b5e-4521-b762-ddc79b1754ab",
   "metadata": {},
   "outputs": [],
   "source": [
    "isforest = IsolationForest(random_state=42, n_estimators=100, n_jobs=-1)"
   ]
  },
  {
   "cell_type": "code",
   "execution_count": 127,
   "id": "536ecd1d-60ec-446d-af76-8f134324d4da",
   "metadata": {},
   "outputs": [],
   "source": [
    "ismapper = isforest.fit_predict(U) == -1"
   ]
  },
  {
   "cell_type": "code",
   "execution_count": 128,
   "id": "4b80b9e7-ef32-4326-9b34-fb66e68be63f",
   "metadata": {},
   "outputs": [],
   "source": [
    "kmeans = KMeans(n_clusters=40, random_state=42, n_init=\"auto\")\n",
    "kmeans.fit(U)\n",
    "label_clusters = kmeans.labels_"
   ]
  },
  {
   "cell_type": "code",
   "execution_count": 129,
   "id": "49b7a3b2-5459-434c-ba4f-0c7a6628bbf7",
   "metadata": {},
   "outputs": [],
   "source": [
    "label_clusters[ismapper] = -1"
   ]
  },
  {
   "cell_type": "code",
   "execution_count": 130,
   "id": "f96a040d-3b74-4831-a811-230dbe489d1b",
   "metadata": {},
   "outputs": [
    {
     "name": "stderr",
     "output_type": "stream",
     "text": [
      "/var/folders/rv/qghsjdfd2l37tf1dlws37sp40000gn/T/ipykernel_11848/3034202980.py:1: FutureWarning: pandas.value_counts is deprecated and will be removed in a future version. Use pd.Series(obj).value_counts() instead.\n",
      "  best_labels = pd.value_counts(label_clusters)\n"
     ]
    }
   ],
   "source": [
    "best_labels = pd.value_counts(label_clusters)"
   ]
  },
  {
   "cell_type": "code",
   "execution_count": 131,
   "id": "bca82630-d513-486f-b149-6474074aed5d",
   "metadata": {},
   "outputs": [],
   "source": [
    "filtrate_labels = list(map(lambda x: x if x in best_labels else -1, label_clusters))"
   ]
  },
  {
   "cell_type": "code",
   "execution_count": 132,
   "id": "c037a749-8fec-4192-a4ae-3be17a4ab483",
   "metadata": {},
   "outputs": [],
   "source": [
    "name_features = list(map(lambda x: 'user_cat_class_' + str(x), filtrate_labels))"
   ]
  },
  {
   "cell_type": "code",
   "execution_count": 133,
   "id": "8ed1e501-7467-4747-b492-2a7ffa392502",
   "metadata": {},
   "outputs": [],
   "source": [
    "data_user = test\n",
    "user_group_info = data_user.groupby('viewer_uid', as_index=False).agg(features_group)\n",
    "user_group_info.columns = columns\n",
    "user_group_info = user_group_info.fillna(0)"
   ]
  },
  {
   "cell_type": "code",
   "execution_count": 134,
   "id": "decdf196-89d1-4ae6-b36b-7d4312478407",
   "metadata": {},
   "outputs": [],
   "source": [
    "user_group_info['viewer_uid'] = data_user['viewer_uid']"
   ]
  },
  {
   "cell_type": "code",
   "execution_count": 138,
   "id": "090ffa92-5c7e-4fff-8dff-9baa4e726a6d",
   "metadata": {},
   "outputs": [],
   "source": [
    "user_video_group = user_group_info.merge(video_group_info, on='rutube_video_id_top_1', how='left').\\\n",
    "                merge(video_group_info.rename(columns={'rutube_video_id_top_n':'rutube_video_id_top_n_x'}),\n",
    "                    on='rutube_video_id_top_n_x', how='left')"
   ]
  },
  {
   "cell_type": "code",
   "execution_count": 139,
   "id": "a8833c14-6550-419e-9d02-a514d328e3e8",
   "metadata": {},
   "outputs": [],
   "source": [
    "for cat in list(filter(lambda x: 'title' in x and 'count' not in x, user_video_group.columns)):\n",
    "    user_video_group = user_video_group.merge(title_popularity.rename(columns={'title': cat}), on=cat, how='left', suffixes=(f'_{cat}_a', f'_{cat}_b'))"
   ]
  },
  {
   "cell_type": "code",
   "execution_count": 140,
   "id": "7b4e1507-6b27-4a6b-a38a-e90ea1770ccb",
   "metadata": {},
   "outputs": [],
   "source": [
    "for cat in list(filter(lambda x: 'category' in x and 'count' not in x, user_video_group.columns)):\n",
    "    user_video_group = user_video_group.merge(cat_popularity.rename(columns={'category': cat}), on=cat, how='left', suffixes=(f'_{cat}_a', f'_{cat}_b'))"
   ]
  },
  {
   "cell_type": "code",
   "execution_count": 141,
   "id": "0b33224c-38d0-489c-a735-543d29cebb59",
   "metadata": {},
   "outputs": [],
   "source": [
    "for cat in list(filter(lambda x: 'region' in x and 'count' not in x and 'ind' not in x, user_video_group.columns)):\n",
    "    user_video_group = user_video_group.merge(region_popularity.rename(columns={'region': cat}), on=cat, how='left', suffixes=(f'_{cat}_a', f'_{cat}_b'))"
   ]
  },
  {
   "cell_type": "code",
   "execution_count": 142,
   "id": "d3f7586e-f9db-47d6-806c-6231dc144cf4",
   "metadata": {},
   "outputs": [],
   "source": [
    "for cat in list(filter(lambda x: 'ua_device_type' in x and 'count' not in x, user_video_group.columns)):\n",
    "    user_video_group = user_video_group.merge(device_popularity.rename(columns={'ua_device_type': cat}), on=cat, how='left', suffixes=(f'_{cat}_a', f'_{cat}_b'))"
   ]
  },
  {
   "cell_type": "code",
   "execution_count": 143,
   "id": "e36ed0f0-d79e-4539-b6de-292d21f84c76",
   "metadata": {},
   "outputs": [],
   "source": [
    "id2viewer = {v: k for k, v in viewer2id.items()}"
   ]
  },
  {
   "cell_type": "code",
   "execution_count": 144,
   "id": "bd853569-aefd-4956-92e6-e1be55ff64c8",
   "metadata": {},
   "outputs": [],
   "source": [
    "user_inter = pd.DataFrame(U)\n",
    "user_inter.index = [id2viewer[i] for i in user_inter.index]"
   ]
  },
  {
   "cell_type": "code",
   "execution_count": 145,
   "id": "b87f2a72-cbb9-4318-a81d-4ae7a9038dde",
   "metadata": {},
   "outputs": [],
   "source": [
    "user_inter = user_inter.reset_index().rename(columns={'index': 'viewer_uid'})"
   ]
  },
  {
   "cell_type": "code",
   "execution_count": 146,
   "id": "480d87cd-c1aa-4f04-a981-2cf5700151af",
   "metadata": {},
   "outputs": [],
   "source": [
    "user_inter['name_features'] = name_features"
   ]
  },
  {
   "cell_type": "code",
   "execution_count": 147,
   "id": "21147a7c-8d0f-4471-873a-df5eb868b29f",
   "metadata": {},
   "outputs": [],
   "source": [
    "user_inter = user_inter.sort_values(by='viewer_uid')"
   ]
  },
  {
   "cell_type": "code",
   "execution_count": 148,
   "id": "d9d0b404-2a82-4366-823c-797bf71ed65c",
   "metadata": {},
   "outputs": [],
   "source": [
    "user_video_group = user_video_group.merge(user_inter, on='viewer_uid', how='left')"
   ]
  },
  {
   "cell_type": "code",
   "execution_count": 149,
   "id": "2bca0c8a-aad1-489e-880a-eb46530c37b8",
   "metadata": {},
   "outputs": [
    {
     "name": "stderr",
     "output_type": "stream",
     "text": [
      "100%|████████████████████████████████████| 60004/60004 [06:47<00:00, 147.32it/s]\n"
     ]
    }
   ],
   "source": [
    "from sklearn.metrics.pairwise import cosine_similarity\n",
    "usr = user_inter[user_inter.columns[1:-1]].values\n",
    "sim_viewers = []\n",
    "for idx1 in tqdm(range(len(usr))):\n",
    "    mean_val = np.mean(cosine_similarity(usr[idx1].reshape(1, -1), usr))\n",
    "    sim_viewers.append(mean_val)"
   ]
  },
  {
   "cell_type": "code",
   "execution_count": 150,
   "id": "6fe59e2a-bfab-49e8-8d0b-21c3f75ba4ac",
   "metadata": {},
   "outputs": [],
   "source": [
    "user_video_group['sim_viewers'] = sim_viewers"
   ]
  },
  {
   "cell_type": "code",
   "execution_count": 151,
   "id": "5c946f5a-1b5c-4902-9273-acd5eeab6cd1",
   "metadata": {},
   "outputs": [],
   "source": [
    "user_video_group.to_csv('prepared_test.csv', index=False)"
   ]
  },
  {
   "cell_type": "markdown",
   "id": "e819d890-f88c-471c-8073-55669d6a18ff",
   "metadata": {},
   "source": [
    "# Далее идем в файл train_test.py"
   ]
  },
  {
   "cell_type": "code",
   "execution_count": null,
   "id": "2a670b5c-7a65-4ccc-a72f-0eab1be5c737",
   "metadata": {},
   "outputs": [],
   "source": []
  }
 ],
 "metadata": {
  "kernelspec": {
   "display_name": "kaggle",
   "language": "python",
   "name": "kaggle"
  },
  "language_info": {
   "codemirror_mode": {
    "name": "ipython",
    "version": 3
   },
   "file_extension": ".py",
   "mimetype": "text/x-python",
   "name": "python",
   "nbconvert_exporter": "python",
   "pygments_lexer": "ipython3",
   "version": "3.12.4"
  },
  "toc": {
   "base_numbering": 1,
   "nav_menu": {},
   "number_sections": true,
   "sideBar": true,
   "skip_h1_title": false,
   "title_cell": "Table of Contents",
   "title_sidebar": "Contents",
   "toc_cell": false,
   "toc_position": {},
   "toc_section_display": true,
   "toc_window_display": false
  }
 },
 "nbformat": 4,
 "nbformat_minor": 5
}
